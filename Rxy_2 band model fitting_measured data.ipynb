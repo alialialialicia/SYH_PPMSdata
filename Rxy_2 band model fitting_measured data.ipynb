{
 "cells": [
  {
   "cell_type": "code",
   "execution_count": 31,
   "metadata": {},
   "outputs": [],
   "source": [
    "import matplotlib.pyplot as plt\n",
    "\n",
    "import pandas as pd\n",
    "import seaborn as sns\n",
    "import numpy as np\n",
    "from scipy import optimize"
   ]
  },
  {
   "cell_type": "code",
   "execution_count": 32,
   "metadata": {},
   "outputs": [],
   "source": [
    "T = 80"
   ]
  },
  {
   "cell_type": "code",
   "execution_count": null,
   "metadata": {},
   "outputs": [],
   "source": []
  },
  {
   "cell_type": "code",
   "execution_count": 33,
   "metadata": {},
   "outputs": [],
   "source": [
    "df = pd.read_csv('%dK_and_0degree.csv' %T)\n"
   ]
  },
  {
   "cell_type": "code",
   "execution_count": 34,
   "metadata": {},
   "outputs": [],
   "source": [
    "df=df.drop(labels =['Unnamed: 0'],axis = 1)"
   ]
  },
  {
   "cell_type": "code",
   "execution_count": 35,
   "metadata": {},
   "outputs": [],
   "source": [
    "#sample geometry\n",
    "t=70*pow(10,-9)\n",
    "w=5\n",
    "L=40"
   ]
  },
  {
   "cell_type": "code",
   "execution_count": 36,
   "metadata": {},
   "outputs": [
    {
     "data": {
      "text/plain": [
       "Index(['Temperature', 'Position', 'Magnetic field (Oe)', 'Rxx', 'Rxy'], dtype='object')"
      ]
     },
     "execution_count": 36,
     "metadata": {},
     "output_type": "execute_result"
    }
   ],
   "source": [
    "df.columns"
   ]
  },
  {
   "cell_type": "code",
   "execution_count": 37,
   "metadata": {},
   "outputs": [],
   "source": [
    "x=np.array(df['Magnetic field (Oe)'])\n",
    "y=np.array(df['Rxx'])"
   ]
  },
  {
   "cell_type": "code",
   "execution_count": 38,
   "metadata": {},
   "outputs": [],
   "source": [
    "#df_xx"
   ]
  },
  {
   "cell_type": "markdown",
   "metadata": {},
   "source": [
    "### extract $\\sigma$_xx"
   ]
  },
  {
   "cell_type": "code",
   "execution_count": 39,
   "metadata": {},
   "outputs": [],
   "source": [
    "df_xx = df[['Magnetic field (Oe)','Rxx']]\n",
    "df_xx = df_xx.dropna(axis=0, how='any', inplace=False)\n",
    "#df_xx.iloc[1]['Magnetic field (Oe)']"
   ]
  },
  {
   "cell_type": "code",
   "execution_count": 40,
   "metadata": {},
   "outputs": [
    {
     "name": "stdout",
     "output_type": "stream",
     "text": [
      "[30.8590894900246, 30.8616114921529]\n",
      "[-86.654, 224.148]\n",
      "30.860350491088752\n"
     ]
    },
    {
     "data": {
      "text/plain": [
       "30.860350491088752"
      ]
     },
     "execution_count": 40,
     "metadata": {},
     "output_type": "execute_result"
    }
   ],
   "source": [
    "#shift data to make it cross (0,0)\n",
    "l=[]\n",
    "l2=[]\n",
    "a=1\n",
    "thr=2500\n",
    "while a<len(df_xx):\n",
    "    if abs(df_xx.iloc[a]['Magnetic field (Oe)']-0)<thr:\n",
    "        l.append(df_xx.iloc[a]['Rxx']) \n",
    "        l2.append(df_xx.iloc[a]['Magnetic field (Oe)'])\n",
    "    a+=1\n",
    "global mean\n",
    "mean=sum(l)/len(l)\n",
    "print(l)\n",
    "print(l2)\n",
    "print(mean)\n",
    "Rxx=mean\n",
    "Rxx"
   ]
  },
  {
   "cell_type": "code",
   "execution_count": 41,
   "metadata": {},
   "outputs": [
    {
     "name": "stdout",
     "output_type": "stream",
     "text": [
      "0.9258296849116756 1.0801122671881063\n"
     ]
    }
   ],
   "source": [
    "rhoxx=Rxx*(10/20)*70*10**-3\n",
    "sigmaxx=np.reciprocal(rhoxx)\n",
    "print(sigmaxx,rhoxx)"
   ]
  },
  {
   "cell_type": "code",
   "execution_count": 42,
   "metadata": {},
   "outputs": [
    {
     "data": {
      "text/html": [
       "<div>\n",
       "<style scoped>\n",
       "    .dataframe tbody tr th:only-of-type {\n",
       "        vertical-align: middle;\n",
       "    }\n",
       "\n",
       "    .dataframe tbody tr th {\n",
       "        vertical-align: top;\n",
       "    }\n",
       "\n",
       "    .dataframe thead th {\n",
       "        text-align: right;\n",
       "    }\n",
       "</style>\n",
       "<table border=\"1\" class=\"dataframe\">\n",
       "  <thead>\n",
       "    <tr style=\"text-align: right;\">\n",
       "      <th></th>\n",
       "      <th>Temperature</th>\n",
       "      <th>Position</th>\n",
       "      <th>Magnetic field (Oe)</th>\n",
       "      <th>Rxx</th>\n",
       "      <th>Rxy</th>\n",
       "    </tr>\n",
       "  </thead>\n",
       "  <tbody>\n",
       "    <tr>\n",
       "      <td>0</td>\n",
       "      <td>79.99920</td>\n",
       "      <td>0.0</td>\n",
       "      <td>69259.4960</td>\n",
       "      <td>NaN</td>\n",
       "      <td>0.247490</td>\n",
       "    </tr>\n",
       "    <tr>\n",
       "      <td>1</td>\n",
       "      <td>80.00155</td>\n",
       "      <td>0.0</td>\n",
       "      <td>67772.2030</td>\n",
       "      <td>30.740809</td>\n",
       "      <td>NaN</td>\n",
       "    </tr>\n",
       "    <tr>\n",
       "      <td>2</td>\n",
       "      <td>79.99995</td>\n",
       "      <td>0.0</td>\n",
       "      <td>66414.6525</td>\n",
       "      <td>NaN</td>\n",
       "      <td>0.255963</td>\n",
       "    </tr>\n",
       "    <tr>\n",
       "      <td>3</td>\n",
       "      <td>80.00170</td>\n",
       "      <td>0.0</td>\n",
       "      <td>64918.2870</td>\n",
       "      <td>30.750704</td>\n",
       "      <td>NaN</td>\n",
       "    </tr>\n",
       "    <tr>\n",
       "      <td>4</td>\n",
       "      <td>80.00145</td>\n",
       "      <td>0.0</td>\n",
       "      <td>63422.4865</td>\n",
       "      <td>NaN</td>\n",
       "      <td>0.264794</td>\n",
       "    </tr>\n",
       "    <tr>\n",
       "      <td>...</td>\n",
       "      <td>...</td>\n",
       "      <td>...</td>\n",
       "      <td>...</td>\n",
       "      <td>...</td>\n",
       "      <td>...</td>\n",
       "    </tr>\n",
       "    <tr>\n",
       "      <td>183</td>\n",
       "      <td>79.99990</td>\n",
       "      <td>0.0</td>\n",
       "      <td>66953.8515</td>\n",
       "      <td>30.789012</td>\n",
       "      <td>NaN</td>\n",
       "    </tr>\n",
       "    <tr>\n",
       "      <td>184</td>\n",
       "      <td>80.00030</td>\n",
       "      <td>0.0</td>\n",
       "      <td>68541.8830</td>\n",
       "      <td>NaN</td>\n",
       "      <td>0.250366</td>\n",
       "    </tr>\n",
       "    <tr>\n",
       "      <td>185</td>\n",
       "      <td>80.00055</td>\n",
       "      <td>0.0</td>\n",
       "      <td>69853.6015</td>\n",
       "      <td>30.782943</td>\n",
       "      <td>NaN</td>\n",
       "    </tr>\n",
       "    <tr>\n",
       "      <td>186</td>\n",
       "      <td>80.00045</td>\n",
       "      <td>0.0</td>\n",
       "      <td>69998.9380</td>\n",
       "      <td>NaN</td>\n",
       "      <td>0.245661</td>\n",
       "    </tr>\n",
       "    <tr>\n",
       "      <td>187</td>\n",
       "      <td>80.00020</td>\n",
       "      <td>0.0</td>\n",
       "      <td>69998.9380</td>\n",
       "      <td>30.782097</td>\n",
       "      <td>NaN</td>\n",
       "    </tr>\n",
       "  </tbody>\n",
       "</table>\n",
       "<p>188 rows × 5 columns</p>\n",
       "</div>"
      ],
      "text/plain": [
       "     Temperature  Position  Magnetic field (Oe)        Rxx       Rxy\n",
       "0       79.99920       0.0           69259.4960        NaN  0.247490\n",
       "1       80.00155       0.0           67772.2030  30.740809       NaN\n",
       "2       79.99995       0.0           66414.6525        NaN  0.255963\n",
       "3       80.00170       0.0           64918.2870  30.750704       NaN\n",
       "4       80.00145       0.0           63422.4865        NaN  0.264794\n",
       "..           ...       ...                  ...        ...       ...\n",
       "183     79.99990       0.0           66953.8515  30.789012       NaN\n",
       "184     80.00030       0.0           68541.8830        NaN  0.250366\n",
       "185     80.00055       0.0           69853.6015  30.782943       NaN\n",
       "186     80.00045       0.0           69998.9380        NaN  0.245661\n",
       "187     80.00020       0.0           69998.9380  30.782097       NaN\n",
       "\n",
       "[188 rows x 5 columns]"
      ]
     },
     "execution_count": 42,
     "metadata": {},
     "output_type": "execute_result"
    }
   ],
   "source": [
    "df"
   ]
  },
  {
   "cell_type": "markdown",
   "metadata": {},
   "source": [
    "### Data rearrange"
   ]
  },
  {
   "cell_type": "code",
   "execution_count": 43,
   "metadata": {},
   "outputs": [],
   "source": [
    "df['Magnetic field (T)']=df['Magnetic field (Oe)']/10000\n",
    "df['rho_xy (Ohm-m)']=df['Rxy']*(w/L)*t\n",
    "df['rho_xy (uOhm-m)']=df['rho_xy (Ohm-m)']*10**6\n",
    "df['sigma_xy (1/uOhm-m)']=(-1+(1-4*sigmaxx**2*df['rho_xy (uOhm-m)']**2)**0.5)/(2*df['rho_xy (uOhm-m)'])\n",
    "df_xy = df[['Magnetic field (T)','rho_xy (uOhm-m)','sigma_xy (1/uOhm-m)']]\n",
    "df_xy = df_xy.dropna(axis=0, how='any', inplace=False) "
   ]
  },
  {
   "cell_type": "code",
   "execution_count": 44,
   "metadata": {},
   "outputs": [
    {
     "data": {
      "text/plain": [
       "0.9258296849116756"
      ]
     },
     "execution_count": 44,
     "metadata": {},
     "output_type": "execute_result"
    }
   ],
   "source": [
    "sigmaxx"
   ]
  },
  {
   "cell_type": "code",
   "execution_count": 45,
   "metadata": {},
   "outputs": [
    {
     "data": {
      "text/html": [
       "<div>\n",
       "<style scoped>\n",
       "    .dataframe tbody tr th:only-of-type {\n",
       "        vertical-align: middle;\n",
       "    }\n",
       "\n",
       "    .dataframe tbody tr th {\n",
       "        vertical-align: top;\n",
       "    }\n",
       "\n",
       "    .dataframe thead th {\n",
       "        text-align: right;\n",
       "    }\n",
       "</style>\n",
       "<table border=\"1\" class=\"dataframe\">\n",
       "  <thead>\n",
       "    <tr style=\"text-align: right;\">\n",
       "      <th></th>\n",
       "      <th>Magnetic field (T)</th>\n",
       "      <th>rho_xy (uOhm-m)</th>\n",
       "      <th>sigma_xy (1/uOhm-m)</th>\n",
       "    </tr>\n",
       "  </thead>\n",
       "  <tbody>\n",
       "    <tr>\n",
       "      <td>0</td>\n",
       "      <td>6.925950</td>\n",
       "      <td>0.002166</td>\n",
       "      <td>-0.001856</td>\n",
       "    </tr>\n",
       "    <tr>\n",
       "      <td>2</td>\n",
       "      <td>6.641465</td>\n",
       "      <td>0.002240</td>\n",
       "      <td>-0.001920</td>\n",
       "    </tr>\n",
       "    <tr>\n",
       "      <td>4</td>\n",
       "      <td>6.342249</td>\n",
       "      <td>0.002317</td>\n",
       "      <td>-0.001986</td>\n",
       "    </tr>\n",
       "    <tr>\n",
       "      <td>6</td>\n",
       "      <td>6.039592</td>\n",
       "      <td>0.002397</td>\n",
       "      <td>-0.002055</td>\n",
       "    </tr>\n",
       "    <tr>\n",
       "      <td>8</td>\n",
       "      <td>5.737834</td>\n",
       "      <td>0.002475</td>\n",
       "      <td>-0.002122</td>\n",
       "    </tr>\n",
       "    <tr>\n",
       "      <td>...</td>\n",
       "      <td>...</td>\n",
       "      <td>...</td>\n",
       "      <td>...</td>\n",
       "    </tr>\n",
       "    <tr>\n",
       "      <td>178</td>\n",
       "      <td>5.954460</td>\n",
       "      <td>0.002424</td>\n",
       "      <td>-0.002078</td>\n",
       "    </tr>\n",
       "    <tr>\n",
       "      <td>180</td>\n",
       "      <td>6.261756</td>\n",
       "      <td>0.002344</td>\n",
       "      <td>-0.002009</td>\n",
       "    </tr>\n",
       "    <tr>\n",
       "      <td>182</td>\n",
       "      <td>6.560396</td>\n",
       "      <td>0.002267</td>\n",
       "      <td>-0.001943</td>\n",
       "    </tr>\n",
       "    <tr>\n",
       "      <td>184</td>\n",
       "      <td>6.854188</td>\n",
       "      <td>0.002191</td>\n",
       "      <td>-0.001878</td>\n",
       "    </tr>\n",
       "    <tr>\n",
       "      <td>186</td>\n",
       "      <td>6.999894</td>\n",
       "      <td>0.002150</td>\n",
       "      <td>-0.001843</td>\n",
       "    </tr>\n",
       "  </tbody>\n",
       "</table>\n",
       "<p>94 rows × 3 columns</p>\n",
       "</div>"
      ],
      "text/plain": [
       "     Magnetic field (T)  rho_xy (uOhm-m)  sigma_xy (1/uOhm-m)\n",
       "0              6.925950         0.002166            -0.001856\n",
       "2              6.641465         0.002240            -0.001920\n",
       "4              6.342249         0.002317            -0.001986\n",
       "6              6.039592         0.002397            -0.002055\n",
       "8              5.737834         0.002475            -0.002122\n",
       "..                  ...              ...                  ...\n",
       "178            5.954460         0.002424            -0.002078\n",
       "180            6.261756         0.002344            -0.002009\n",
       "182            6.560396         0.002267            -0.001943\n",
       "184            6.854188         0.002191            -0.001878\n",
       "186            6.999894         0.002150            -0.001843\n",
       "\n",
       "[94 rows x 3 columns]"
      ]
     },
     "execution_count": 45,
     "metadata": {},
     "output_type": "execute_result"
    }
   ],
   "source": [
    "df_xy"
   ]
  },
  {
   "cell_type": "code",
   "execution_count": 46,
   "metadata": {},
   "outputs": [
    {
     "data": {
      "text/plain": [
       "Index(['Magnetic field (T)', 'rho_xy (uOhm-m)', 'sigma_xy (1/uOhm-m)'], dtype='object')"
      ]
     },
     "execution_count": 46,
     "metadata": {},
     "output_type": "execute_result"
    }
   ],
   "source": [
    "df_xy.columns"
   ]
  },
  {
   "cell_type": "code",
   "execution_count": 47,
   "metadata": {},
   "outputs": [
    {
     "data": {
      "text/plain": [
       "Text(0, 0.5, '$\\\\sigma$ _xy (1/uOhm-m)')"
      ]
     },
     "execution_count": 47,
     "metadata": {},
     "output_type": "execute_result"
    },
    {
     "data": {
      "image/png": "[encoded data removed]",
      "text/plain": [
       "<Figure size 432x288 with 1 Axes>"
      ]
     },
     "metadata": {
      "needs_background": "light"
     },
     "output_type": "display_data"
    }
   ],
   "source": [
    "x=np.array(df_xy['Magnetic field (T)'])\n",
    "y=np.array(df_xy['sigma_xy (1/uOhm-m)'])\n",
    "plt.scatter(x, y, label='%dK'%T,color='red' )\n",
    "plt.legend(loc='best',fontsize=20)\n",
    "plt.ylim(-0.012, -0.004)\n",
    "plt.xticks(fontsize=18)\n",
    "plt.yticks(fontsize=18)\n",
    "plt.xlabel('Magnetic field (T)',fontsize=20)\n",
    "plt.ylabel('$\\sigma$ _xy (1/uOhm-m)',fontsize=20)\n"
   ]
  },
  {
   "cell_type": "code",
   "execution_count": 48,
   "metadata": {},
   "outputs": [],
   "source": [
    "#df['Magnetic field (T)']=df['Magnetic field (Oe)']/10000\n",
    "#df['rho_xy (Ohm-m)']=df['Rxy']*(w/L)*t\n",
    "#df['rho_xy (uOhm-m)']=df['rho_xy (Ohm-m)']*10**6\n",
    "#df['sigma_xy (1/uOhm-m)']=np.reciprocal(df['rho_xy (uOhm-m)'])\n",
    "df_xy = df[['Magnetic field (T)','rho_xy (uOhm-m)','sigma_xy (1/uOhm-m)']]\n",
    "df_xy = df_xy.dropna(axis=0, how='any', inplace=False)      "
   ]
  },
  {
   "cell_type": "code",
   "execution_count": 49,
   "metadata": {},
   "outputs": [
    {
     "data": {
      "text/plain": [
       "(0, 0.005)"
      ]
     },
     "execution_count": 49,
     "metadata": {},
     "output_type": "execute_result"
    },
    {
     "data": {
      "image/png": "[encoded data removed]",
      "text/plain": [
       "<Figure size 432x288 with 1 Axes>"
      ]
     },
     "metadata": {
      "needs_background": "light"
     },
     "output_type": "display_data"
    }
   ],
   "source": [
    "x1=np.array(df_xy['Magnetic field (T)'])\n",
    "y1=np.array(df_xy['rho_xy (uOhm-m)'])\n",
    "\n",
    "plt.scatter(x1,y1)\n",
    "plt.ylim(0,0.005)"
   ]
  },
  {
   "cell_type": "markdown",
   "metadata": {},
   "source": [
    "### $\\sigma$ fitting\n",
    "unit of n: 10^26/m^3, unit of e: m^2/Vs"
   ]
  },
  {
   "cell_type": "code",
   "execution_count": 50,
   "metadata": {
    "scrolled": true
   },
   "outputs": [
    {
     "data": {
      "text/plain": [
       "Text(0, 0.5, '$\\\\sigma$ _xy (1/uOhm-m)')"
      ]
     },
     "execution_count": 50,
     "metadata": {},
     "output_type": "execute_result"
    },
    {
     "data": {
      "image/png": "[encoded data removed]",
      "text/plain": [
       "<Figure size 432x288 with 1 Axes>"
      ]
     },
     "metadata": {
      "needs_background": "light"
     },
     "output_type": "display_data"
    }
   ],
   "source": [
    "#positive_part = (df_xy['Magnetic field (T)']-0)>0\n",
    "#bad_data = (df_xy['Magnetic field (T)']-6)<0\n",
    "#df_xy=df_xy[positive_part&bad_data]\n",
    "x=np.array(df_xy['Magnetic field (T)'])\n",
    "y=np.array(df_xy['sigma_xy (1/uOhm-m)'])\n",
    "plt.scatter(x, y, label='%dK'%T,color='red' )\n",
    "plt.legend(loc='best',fontsize=20)\n",
    "plt.ylim(-0.015, 0)\n",
    "plt.xticks(fontsize=18)\n",
    "plt.yticks(fontsize=18)\n",
    "plt.xlabel('Magnetic field (T)',fontsize=20)\n",
    "plt.ylabel('$\\sigma$ _xy (1/uOhm-m)',fontsize=20)"
   ]
  },
  {
   "cell_type": "code",
   "execution_count": 51,
   "metadata": {},
   "outputs": [
    {
     "data": {
      "text/plain": [
       "[0.14198229999999998, -0.21931894999999998, -0.1320223, 0.1630836]"
      ]
     },
     "execution_count": 51,
     "metadata": {},
     "output_type": "execute_result"
    }
   ],
   "source": [
    "#shift data to make it cross (0,0)\n",
    "l=[]\n",
    "l2=[]\n",
    "a=1\n",
    "thr=0.24\n",
    "while a<len(df_xy):\n",
    "    if abs(df_xy.iloc[a]['Magnetic field (T)']-0)<thr:\n",
    "        l.append(df_xy.iloc[a]['sigma_xy (1/uOhm-m)']) \n",
    "        l2.append(df_xy.iloc[a]['Magnetic field (T)'])\n",
    "    a+=1\n",
    "global mean\n",
    "mean=sum(l)/len(l)\n",
    "df_xy['sigma_xy (1/uOhm-m)']=(df_xy['sigma_xy (1/uOhm-m)']-mean)\n",
    "l2"
   ]
  },
  {
   "cell_type": "code",
   "execution_count": 52,
   "metadata": {},
   "outputs": [
    {
     "data": {
      "text/plain": [
       "Text(0, 0.5, '$\\\\sigma$$_{xy}$ (1/$\\\\mu$$Ω$-m)')"
      ]
     },
     "execution_count": 52,
     "metadata": {},
     "output_type": "execute_result"
    },
    {
     "data": {
      "image/png": "[encoded data removed]",
      "text/plain": [
       "<Figure size 432x288 with 1 Axes>"
      ]
     },
     "metadata": {
      "needs_background": "light"
     },
     "output_type": "display_data"
    }
   ],
   "source": [
    "#positive_part = (df_xy['Magnetic field (T)']-0)>0\n",
    "bad_data_1 = abs(df_xy['Magnetic field (T)'])<6\n",
    "#bad_data_2 = (df_xy['Magnetic field (T)']+6)<0\n",
    "df_xy=df_xy[bad_data_1]\n",
    "x=np.array(df_xy['Magnetic field (T)'])\n",
    "y=np.array(df_xy['sigma_xy (1/uOhm-m)'])\n",
    "plt.scatter(x, y, label= '%dK'%T,color='red',s=20)\n",
    "plt.legend(loc='best',fontsize=20)\n",
    "#plt.ylim(0, 0.5*10**-8)\n",
    "plt.ylim(-0.003, 0.003)\n",
    "#plt.grid(axis = 'both')\n",
    "plt.ticklabel_format(style='sci', axis='y', scilimits=(-3,-3), useMathText=True)\n",
    "plt.xticks(fontsize=18)\n",
    "plt.yticks(fontsize=18)\n",
    "plt.xlabel('Magnetic field (T)',fontsize=20)\n",
    "plt.ylabel('$\\sigma$$_{xy}$ (1/$\\mu$$\\u03A9$-m)',fontsize=20)"
   ]
  },
  {
   "cell_type": "markdown",
   "metadata": {},
   "source": [
    "### 1 channel fitting"
   ]
  },
  {
   "cell_type": "code",
   "execution_count": 70,
   "metadata": {},
   "outputs": [
    {
     "name": "stdout",
     "output_type": "stream",
     "text": [
      "[0.03067261 0.02185863]\n",
      "[0.003741   0.00134682]\n",
      "0.9999765360433317\n"
     ]
    }
   ],
   "source": [
    "#One channel fitting\n",
    "x=np.array(df_xy['Magnetic field (T)'])\n",
    "y=np.array(df_xy['sigma_xy (1/uOhm-m)'])\n",
    "def test_func(H, n, u):\n",
    "    #return  -16*H*(ne*ue**2/(1+(ue*H)**2)-nh*uh**2/(1+(uh*H)**2))\n",
    "    return 16*H*(n*u**2/(1+(u*H)**2))\n",
    "#-16*H*(ne*ue**2/(1+(ue*H)**2)-nh*uh**2/(1+(uh*H)**2))\n",
    "    #(-1.6*10**-19*x*(ne*ue**2/(1+(ue*x)**2))*10**-6)\n",
    "#popt, pcov = optimize.curve_fit(test_func, x, y,p0=[1,0],bounds=((1,0),(10,1000)),maxfev=50000000000)\n",
    "popt1, pcov1 = optimize.curve_fit(test_func, x, y,maxfev=10000)\n",
    "perr1=np.sqrt(np.diag(pcov1))\n",
    "#calculate r_square\n",
    "residuals = y- test_func(x, *popt1)\n",
    "ss_res = np.sum(residuals**2)\n",
    "ss_tot = np.sum((y-np.mean(y))**2)\n",
    "r_squared = 1 - (ss_res / ss_tot)\n",
    "print(popt1)\n",
    "print(perr1)\n",
    "print(r_squared)"
   ]
  },
  {
   "cell_type": "code",
   "execution_count": 76,
   "metadata": {},
   "outputs": [
    {
     "data": {
      "image/png": "[encoded data removed]",
      "text/plain": [
       "<Figure size 432x288 with 1 Axes>"
      ]
     },
     "metadata": {
      "needs_background": "light"
     },
     "output_type": "display_data"
    }
   ],
   "source": [
    "plt.figure(figsize=(6, 4))\n",
    "plt.scatter(x, y, label='%dK' %T,color='cadetblue',s=20)\n",
    "plt.plot(x, test_func(x, *popt1), 'r-', label='One channel fit:\\nn=%f,\\nu=%f' % tuple(popt1), )\n",
    "#plt.plot(x, test_func(x, *popt), 'r-', label='fit:\\nn=%f,\\nu=%f' % tuple(popt))\n",
    "plt.legend(loc='best')\n",
    "#plt.ticklabel_format(style='sci', axis='x', scilimits=(0,0), useMathText=True)\n",
    "#plt.ticklabel_format(style='sci', axis='y', scilimits=(0,0), useMathText=True)\n",
    "plt.autoscale(enable=True, axis='y') \n",
    "plt.ylim(-0.002, 0.002)\n",
    "#plt.xlim(-1, 1)\n",
    "plt.xticks(fontsize=18)\n",
    "plt.yticks(fontsize=18)\n",
    "plt.xlabel('Magnetic field (T)',fontsize=20)\n",
    "plt.ylabel('$\\sigma$_xy (1/uOhm-m)',fontsize=20)\n",
    "plt.show()"
   ]
  },
  {
   "cell_type": "markdown",
   "metadata": {},
   "source": [
    "### 2 channel fitting"
   ]
  },
  {
   "cell_type": "code",
   "execution_count": 55,
   "metadata": {},
   "outputs": [
    {
     "name": "stdout",
     "output_type": "stream",
     "text": [
      "[0.85623835 0.02143486 0.88686711 0.02145018]\n",
      "[3658.61482677    4.34972938 3658.56002965    4.18827417]\n",
      "1.208217675300585e-09\n"
     ]
    }
   ],
   "source": [
    "#two channel fitting\n",
    "x=np.array(df_xy['Magnetic field (T)'])\n",
    "y=np.array(df_xy['sigma_xy (1/uOhm-m)'])\n",
    "def test_func(H, ne, ue, nh, uh):\n",
    "    return  -16*H*(ne*ue**2/(1+(ue*H)**2)-nh*uh**2/(1+(uh*H)**2))\n",
    "    #return 16*H*(n*u**2/(1+(u*H)**2))\n",
    "#-16*H*(ne*ue**2/(1+(ue*H)**2)-nh*uh**2/(1+(uh*H)**2))\n",
    "    #(-1.6*10**-19*x*(ne*ue**2/(1+(ue*x)**2))*10**-6)\n",
    "popt2, pcov2 = optimize.curve_fit(test_func, x, y,p0=[1,0,1,0],bounds=((0,0,0,0),(100,100,100,100)),maxfev=50000000000)\n",
    "#popt2, pcov2 = optimize.curve_fit(test_func, x, y,maxfev=5000000)\n",
    "perr2=np.sqrt(np.diag(pcov2))\n",
    "#calculate r_square\n",
    "residuals = y- test_func(x, *popt2)\n",
    "ss_res = np.sum(residuals**2)\n",
    "ss_tot = np.sum((y-np.mean(y))**2)\n",
    "r_squared = 1 - (ss_res / ss_tot)\n",
    "print(popt2)\n",
    "print(perr2)\n",
    "print(ss_res)"
   ]
  },
  {
   "cell_type": "code",
   "execution_count": 56,
   "metadata": {},
   "outputs": [
    {
     "data": {
      "image/png": "[encoded data removed]",
      "text/plain": [
       "<Figure size 432x288 with 1 Axes>"
      ]
     },
     "metadata": {
      "needs_background": "light"
     },
     "output_type": "display_data"
    }
   ],
   "source": [
    "plt.figure(figsize=(6, 4))\n",
    "plt.scatter(x, y, label='%dK' %T,color='cadetblue',s=20)\n",
    "#plt.plot(x, test_func(x, params[0], params[1]),label='Fitted function',color='coral',linewidth = 1)\n",
    "plt.plot(x, test_func(x, *popt2), 'r-', label='two channel fit:\\nne=%f,\\nue=%f,\\nnh=%f,\\nuh=%f' % tuple(popt2))\n",
    "plt.legend(loc='best')\n",
    "#plt.ticklabel_format(style='sci', axis='x', scilimits=(0,0), useMathText=True)\n",
    "#plt.ticklabel_format(style='sci', axis='y', scilimits=(0,0), useMathText=True)\n",
    "#plt.autoscale(enable=True, axis='y') \n",
    "plt.xticks(fontsize=18)\n",
    "plt.yticks(fontsize=18)\n",
    "plt.ylabel('$\\sigma$_xy (1/uOhm-m)',fontsize=20)\n",
    "plt.xlabel('Magnetic field (T)',fontsize=20)\n",
    "#plt.ylim(-0.00075, 0.00075)\n",
    "#plt.xlim(-2, 2)\n",
    "plt.show()"
   ]
  },
  {
   "cell_type": "code",
   "execution_count": 57,
   "metadata": {},
   "outputs": [
    {
     "name": "stdout",
     "output_type": "stream",
     "text": [
      "0.03067261188522212\n",
      "0.02185862766782296\n"
     ]
    }
   ],
   "source": [
    "print (popt1[0])\n",
    "print (popt1[1])"
   ]
  },
  {
   "cell_type": "code",
   "execution_count": 58,
   "metadata": {},
   "outputs": [],
   "source": [
    "index = [2,4,6,8,10,20,40,60,80,100,150,200,250,300]\n",
    "params_1carrier = pd.DataFrame({'n': [4.78109302e+02,5.27764954e+02,5.66457868e+02,635.7549482246966,690.0973014494039,1022.3730850522339,13.512228184618829,0.040806687547994686,0.03067261188522212,0.023678277116165703,0.02220481938166531,0.013731124566033188,0.019132497078555608,0.05564192],\n",
    "                                'u': [2.13295849e-04,2.02583257e-04,1.92746156e-04,0.00017918725543227335,0.00016980522147852351,0.00013472268166258894,0.0011438603306731154,0.020071906524893622,0.02185862766782296,0.023366727454003595,0.02096152372161219,0.02408054881541378,0.018779990442297525,0.01014688],},\n",
    "                  index=index)\n"
   ]
  },
  {
   "cell_type": "code",
   "execution_count": 59,
   "metadata": {},
   "outputs": [],
   "source": [
    "params_1carrier\n",
    "params_1carrier.to_csv('1carrier_fitting.csv')"
   ]
  },
  {
   "cell_type": "code",
   "execution_count": 60,
   "metadata": {
    "scrolled": false
   },
   "outputs": [
    {
     "name": "stdout",
     "output_type": "stream",
     "text": [
      "0.8562383527140945\n",
      "0.021434858709268954\n",
      "0.886867114504345\n",
      "0.021450183895516235\n"
     ]
    }
   ],
   "source": [
    "print (popt2[0])\n",
    "print (popt2[1])\n",
    "print (popt2[2])\n",
    "print (popt2[3])\n"
   ]
  },
  {
   "cell_type": "code",
   "execution_count": 61,
   "metadata": {},
   "outputs": [],
   "source": [
    "index = [2,4,6,8,10,20,40,60,80,100,150,200,250,300]\n",
    "params_2carrier = pd.DataFrame({'ne': [2.03712074,1.35085077,0.8278393853638397,0.9128517352964793,0.9697894216433034,1.1102957613581301,2.1644230508292877,0.714217990234362,0.9952647947047198,0.9323031893026593,1.4479296462900029,1.1103645131626187,2.2677306270041493,-0.3615511247358801],\n",
    "           \n",
    "                                'ue': [0.15388858,0.14394844 ,0.14525460612807758,0.14050428511940574,0.13334082946645057,0.10088548589347128,0.05568718097153488,0.020316726189016053,0.021865396311275462,0.023431767760528507,0.020974608527600348,0.060928776310979336,0.0520310713147547,0.04359636231642917],\n",
    "                        \n",
    "                                'nh': [2.04018646,1.3543182,0.8311181900351382,0.9161802578494711,0.9732885437675141,1.115189867257875,2.176548415644921,0.7550015099606332,1.0259373255701847,0.9559805721138082,1.470134305556993,1.1145357206674653,2.272588346979787,-0.3555098523233755],\n",
    "                               \n",
    "                                'uh': [0.15379579,0.14380191,0.14502845037790738,0.14030640866854732,0.1331595105626293,0.10073925734802075,0.055604715102857964,0.020303881473616857,0.021865194716964322,0.023430169956945752,0.020974412068448,0.06087320570019428,0.052003943899813936,0.04378175331532219],\n",
    "                                \n",
    "                               },index=index)"
   ]
  },
  {
   "cell_type": "code",
   "execution_count": 62,
   "metadata": {},
   "outputs": [],
   "source": [
    "params_2carrier\n",
    "params_2carrier.to_csv('2carrier_fitting.csv')"
   ]
  },
  {
   "cell_type": "code",
   "execution_count": 63,
   "metadata": {},
   "outputs": [
    {
     "data": {
      "image/png": "[encoded data removed]",
      "text/plain": [
       "<Figure size 432x288 with 1 Axes>"
      ]
     },
     "metadata": {
      "needs_background": "light"
     },
     "output_type": "display_data"
    }
   ],
   "source": [
    "x=np.array(index)\n",
    "y1=np.array(params_2carrier['ne'])\n",
    "y2=np.array(params_2carrier['nh'])\n",
    "plt.scatter(x,y1)\n",
    "plt.scatter(x,y2)\n",
    "plt.show()"
   ]
  },
  {
   "cell_type": "markdown",
   "metadata": {},
   "source": [
    "###  $\\rho$ fitting (another model)\n",
    "unit of n: 10^26/m^3, unit of e: m^2/Vs"
   ]
  },
  {
   "cell_type": "code",
   "execution_count": 64,
   "metadata": {},
   "outputs": [
    {
     "data": {
      "text/plain": [
       "Text(0, 0.5, '$ρ$_xy (uOhm-m)')"
      ]
     },
     "execution_count": 64,
     "metadata": {},
     "output_type": "execute_result"
    },
    {
     "data": {
      "image/png": "[encoded data removed]",
      "text/plain": [
       "<Figure size 432x288 with 1 Axes>"
      ]
     },
     "metadata": {
      "needs_background": "light"
     },
     "output_type": "display_data"
    }
   ],
   "source": [
    "#positive_part = (df_xy['Magnetic field (T)']-0)>0\n",
    "#bad_data = (df_xy['Magnetic field (T)']-6)<0\n",
    "#df_xy=df_xy[positive_part&bad_data]\n",
    "x=np.array(df_xy['Magnetic field (T)'])\n",
    "y=np.array(df_xy['rho_xy (uOhm-m)'])\n",
    "plt.scatter(x, y, label='%dK'%T,color='red' )\n",
    "plt.legend(loc='best',fontsize=20)\n",
    "#plt.ylim(-0.005, 0.005)\n",
    "plt.xticks(fontsize=18)\n",
    "plt.yticks(fontsize=18)\n",
    "plt.xlabel('Magnetic field (T)',fontsize=20)\n",
    "plt.ylabel('$\\u03C1$_xy (uOhm-m)',fontsize=20)"
   ]
  },
  {
   "cell_type": "code",
   "execution_count": 65,
   "metadata": {},
   "outputs": [
    {
     "data": {
      "text/plain": [
       "[0.14198229999999998, -0.21931894999999998, -0.1320223, 0.1630836]"
      ]
     },
     "execution_count": 65,
     "metadata": {},
     "output_type": "execute_result"
    }
   ],
   "source": [
    "#shift data to make it cross (0,0)\n",
    "l=[]\n",
    "l2=[]\n",
    "a=1\n",
    "thr=0.24\n",
    "while a<len(df_xy):\n",
    "    if abs(df_xy.iloc[a]['Magnetic field (T)']-0)<thr:\n",
    "        l.append(df_xy.iloc[a]['rho_xy (uOhm-m)']) \n",
    "        l2.append(df_xy.iloc[a]['Magnetic field (T)'])\n",
    "    a+=1\n",
    "global mean\n",
    "mean=sum(l)/len(l)\n",
    "df_xy['rho_xy (uOhm-m)']=(df_xy['rho_xy (uOhm-m)']-mean)\n",
    "l2"
   ]
  },
  {
   "cell_type": "code",
   "execution_count": 66,
   "metadata": {},
   "outputs": [
    {
     "data": {
      "text/plain": [
       "Text(0, 0.5, '$ρ$_xy (uOhm-m)')"
      ]
     },
     "execution_count": 66,
     "metadata": {},
     "output_type": "execute_result"
    },
    {
     "data": {
      "image/png": "[encoded data removed]",
      "text/plain": [
       "<Figure size 432x288 with 1 Axes>"
      ]
     },
     "metadata": {
      "needs_background": "light"
     },
     "output_type": "display_data"
    }
   ],
   "source": [
    "#positive_part = (df_xy['Magnetic field (T)']-0)>0\n",
    "bad_data_1 = abs(df_xy['Magnetic field (T)'])<6\n",
    "#bad_data_2 = (df_xy['Magnetic field (T)']+6)<0\n",
    "df_xy=df_xy[bad_data_1]\n",
    "x=np.array(df_xy['Magnetic field (T)'])\n",
    "y=np.array(df_xy['rho_xy (uOhm-m)'])\n",
    "plt.scatter(x, y, label= '%dK'%T,color='red',s=20)\n",
    "plt.legend(loc='best',fontsize=20)\n",
    "#plt.ylim(-0.0005, 0.0005)\n",
    "plt.grid(axis = 'both')\n",
    "plt.xticks(fontsize=18)\n",
    "plt.yticks(fontsize=18)\n",
    "plt.xlabel('Magnetic field (T)',fontsize=20)\n",
    "plt.ylabel('$\\u03C1$_xy (uOhm-m)',fontsize=20)"
   ]
  },
  {
   "cell_type": "code",
   "execution_count": 67,
   "metadata": {},
   "outputs": [
    {
     "name": "stdout",
     "output_type": "stream",
     "text": [
      "[1.00000001e+03 1.74733256e-04 1.00000000e+03 1.16374229e-04]\n",
      "4.210925681164249e-09\n"
     ]
    }
   ],
   "source": [
    "#two channel fitting\n",
    "x=np.array(df_xy['Magnetic field (T)'])\n",
    "y=np.array(df_xy['rho_xy (uOhm-m)'])\n",
    "def test_func1(x, ne, ue, nh, uh):\n",
    "    return  (x*(nh*uh**2-ne*ue**2)+(ue**2*uh**2*(nh-ne)*x**3))/(16*((ne*ue+nh*uh)**2+(nh-ne)**2*ue**2*uh**2*x**2))\n",
    "    #return 16*H*(n*u**2/(1+(u*H)**2))\n",
    "#-16*H*(ne*ue**2/(1+(ue*H)**2)-nh*uh**2/(1+(uh*H)**2))\n",
    "    #(-1.6*10**-19*x*(ne*ue**2/(1+(ue*x)**2))*10**-6)\n",
    "popt, pcov = optimize.curve_fit(test_func, x, y,p0=[1000,0,1000,0],bounds=((0,0,0,0),(10000,1000,10000,1000)),maxfev=50000000000)\n",
    "#popt, pcov = optimize.curve_fit(test_func1, x, y,maxfev=5000000)\n",
    "#perr=np.sqrt(np.diag(pcov2))\n",
    "#calculate r_square\n",
    "residuals = y- test_func(x, *popt)\n",
    "ss_res = np.sum(residuals**2)\n",
    "ss_tot = np.sum((y-np.mean(y))**2)\n",
    "r_squared = 1 - (ss_res / ss_tot)\n",
    "print(popt)\n",
    "print(ss_res)"
   ]
  },
  {
   "cell_type": "code",
   "execution_count": 68,
   "metadata": {},
   "outputs": [
    {
     "data": {
      "image/png": "[encoded data removed]",
      "text/plain": [
       "<Figure size 432x288 with 1 Axes>"
      ]
     },
     "metadata": {
      "needs_background": "light"
     },
     "output_type": "display_data"
    }
   ],
   "source": [
    "plt.figure(figsize=(6, 4))\n",
    "plt.scatter(x, y, label='%dK' %T,color='cadetblue',s=20)\n",
    "#plt.plot(x, test_func(x, params[0], params[1]),label='Fitted function',color='coral',linewidth = 1)\n",
    "plt.plot(x, test_func1(x, *popt), 'r-', label='two channel fit:\\nne=%f,\\nue=%f,\\nnh=%f,\\nuh=%f' % tuple(popt))\n",
    "plt.legend(loc='best')\n",
    "#plt.ticklabel_format(style='sci', axis='x', scilimits=(0,0), useMathText=True)\n",
    "#plt.ticklabel_format(style='sci', axis='y', scilimits=(0,0), useMathText=True)\n",
    "#plt.autoscale(enable=True, axis='y') \n",
    "plt.xticks(fontsize=18)\n",
    "plt.yticks(fontsize=18)\n",
    "plt.ylabel('rho_xy (uOhm-m)',fontsize=20)\n",
    "plt.xlabel('Magnetic field (T)',fontsize=20)\n",
    "plt.ylim(-0.001, 0.001)\n",
    "#plt.xlim(-2, 2)\n",
    "plt.show()"
   ]
  },
  {
   "cell_type": "markdown",
   "metadata": {},
   "source": [
    "### 1 channel fitting"
   ]
  },
  {
   "cell_type": "markdown",
   "metadata": {},
   "source": [
    "x=np.array(df_xy['Magnetic field (T)'])\n",
    "y=np.array(df_xy['rho_xy (uOhm-m)'])\n",
    "def test_func(H, n, u):\n",
    "    #return  -16*H*(ne*ue**2/(1+(ue*H)**2)-nh*uh**2/(1+(uh*H)**2))\n",
    "    #return 16*H*(n*u**2/(1+(u*H)**2))\n",
    "    return (1+(u*H)**2)/(n*u**2*-16*H)\n",
    "#-16*H*(ne*ue**2/(1+(ue*H)**2)-nh*uh**2/(1+(uh*H)**2))\n",
    "    #(-1.6*10**-19*x*(ne*ue**2/(1+(ue*x)**2))*10**-6)\n",
    "popt, pcov = optimize.curve_fit(test_func, x, y,p0=[1,0],bounds=((1,0),(1000,100)),maxfev=50000000000)\n",
    "#popt, pcov = optimize.curve_fit(test_func, x, y,maxfev=10000)\n",
    "perr=np.sqrt(np.diag(pcov))\n",
    "#calculate r_square\n",
    "residuals = y- test_func(x, *popt)\n",
    "ss_res = np.sum(residuals**2)\n",
    "ss_tot = np.sum((y-np.mean(y))**2)\n",
    "r_squared = 1 - (ss_res / ss_tot)\n",
    "print(popt)\n",
    "print(perr)\n",
    "print(r_squared)"
   ]
  },
  {
   "cell_type": "markdown",
   "metadata": {},
   "source": [
    "plt.figure(figsize=(6, 4))\n",
    "plt.scatter(x, y, label='%dK' %T,color='cadetblue',s=20)\n",
    "plt.plot(x, test_func(x, *popt), 'r-', label='One channel fit:\\nn=%f,\\nu=%f' % tuple(popt))\n",
    "#plt.plot(x, test_func(x, *popt), 'r-', label='fit:\\nn=%f,\\nu=%f' % tuple(popt))\n",
    "plt.legend(loc='best')\n",
    "#plt.ticklabel_format(style='sci', axis='x', scilimits=(0,0), useMathText=True)\n",
    "#plt.ticklabel_format(style='sci', axis='y', scilimits=(0,0), useMathText=True)\n",
    "plt.autoscale(enable=True, axis='y') \n",
    "plt.grid(axis='both')\n",
    "#plt.ylim(-0.001, 0.001)\n",
    "plt.xticks(fontsize=18)\n",
    "plt.yticks(fontsize=18)\n",
    "plt.xlabel('Magnetic field (T)',fontsize=20)\n",
    "plt.ylabel('$\\u03C1$_xy (1/uOhm-m)',fontsize=20)\n",
    "plt.show()"
   ]
  },
  {
   "cell_type": "markdown",
   "metadata": {},
   "source": [
    "### 2 channel fitting"
   ]
  },
  {
   "cell_type": "markdown",
   "metadata": {},
   "source": [
    "import warnings\n",
    "warnings.filterwarnings('ignore')"
   ]
  },
  {
   "cell_type": "markdown",
   "metadata": {},
   "source": [
    "#two channel fitting\n",
    "positive_part = (df_xy['Magnetic field (T)']-0.1)>0\n",
    "bad_data_1 = abs(df_xy['Magnetic field (T)'])<6\n",
    "#bad_data_2 = (df_xy['Magnetic field (T)']+6)<0\n",
    "df_xy=df_xy[bad_data_1&positive_part]\n",
    "x=np.array(df_xy['Magnetic field (T)'])\n",
    "y=np.array(df_xy['rho_xy (uOhm-m)'])\n",
    "def test_func(H, ne, ue, nh, uh):\n",
    "   # return  -16*H*(ne*ue**2/(1+(ue*H)**2)-nh*uh**2/(1+(uh*H)**2))\n",
    "    return np.reciprocal(-16*H*(ne*ue**2/(1+(ue*H)**2)-nh*uh**2/(1+(uh*H)**2)))\n",
    "    #return 16*H*(n*u**2/(1+(u*H)**2))\n",
    "#-16*H*(ne*ue**2/(1+(ue*H)**2)-nh*uh**2/(1+(uh*H)**2))\n",
    "    #(-1.6*10**-19*x*(ne*ue**2/(1+(ue*x)**2))*10**-6)\n",
    "#popt, pcov = optimize.curve_fit(test_func, x, y,p0=[1,0,1,0],bounds=((1,0,1,0),(10,10,10,10)),maxfev=50000000000)\n",
    "popt, pcov = optimize.curve_fit(test_func, x, y,maxfev=50000000)\n",
    "perr=np.sqrt(np.diag(pcov))\n",
    "#calculate r_square\n",
    "residuals = y- test_func(x, *popt)\n",
    "ss_res = np.sum(residuals**2)\n",
    "ss_tot = np.sum((y-np.mean(y))**2)\n",
    "r_squared = 1 - (ss_res / ss_tot)\n",
    "print(popt)\n",
    "print(r_squared)"
   ]
  },
  {
   "cell_type": "markdown",
   "metadata": {},
   "source": [
    "plt.figure(figsize=(6, 4))\n",
    "plt.scatter(x, y, label='%dK' %T,color='cadetblue',s=20)\n",
    "#plt.plot(x, test_func(x, params[0], params[1]),label='Fitted function',color='coral',linewidth = 1)\n",
    "plt.plot(x, test_func(x, *popt), 'r-', label='two channel fit:\\nne=%e,\\nue=%e,\\nnh=%e,\\nuh=%e' % tuple(popt))\n",
    "plt.legend(loc='best')\n",
    "#plt.ticklabel_format(style='sci', axis='x', scilimits=(0,0), useMathText=True)\n",
    "#plt.ticklabel_format(style='sci', axis='y', scilimits=(0,0), useMathText=True)\n",
    "#plt.autoscale(enable=True, axis='y') \n",
    "plt.xticks(fontsize=18)\n",
    "plt.yticks(fontsize=18)\n",
    "plt.ylabel('$\\u03C1$_xy (1/uOhm-m)',fontsize=20)\n",
    "plt.xlabel('Magnetic field (T)',fontsize=20)\n",
    "#plt.ylim(-3*10**-9, 3*10**-9)\n",
    "plt.show()"
   ]
  },
  {
   "cell_type": "code",
   "execution_count": null,
   "metadata": {},
   "outputs": [],
   "source": []
  }
 ],
 "metadata": {
  "kernelspec": {
   "display_name": "Python 3",
   "language": "python",
   "name": "python3"
  },
  "language_info": {
   "codemirror_mode": {
    "name": "ipython",
    "version": 3
   },
   "file_extension": ".py",
   "mimetype": "text/x-python",
   "name": "python",
   "nbconvert_exporter": "python",
   "pygments_lexer": "ipython3",
   "version": "3.6.9"
  }
 },
 "nbformat": 4,
 "nbformat_minor": 4
}
