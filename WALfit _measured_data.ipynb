{
 "cells": [
  {
   "cell_type": "code",
   "execution_count": 533,
   "metadata": {},
   "outputs": [],
   "source": [
    "import matplotlib.pyplot as plt\n",
    "\n",
    "import pandas as pd\n",
    "import seaborn as sns\n",
    "import numpy as np\n",
    "from scipy import optimize\n",
    "import math\n",
    "from scipy import special"
   ]
  },
  {
   "cell_type": "code",
   "execution_count": 534,
   "metadata": {},
   "outputs": [],
   "source": [
    "T = 2"
   ]
  },
  {
   "cell_type": "code",
   "execution_count": null,
   "metadata": {},
   "outputs": [],
   "source": []
  },
  {
   "cell_type": "code",
   "execution_count": 535,
   "metadata": {},
   "outputs": [],
   "source": [
    "w=10*10**-6\n",
    "L=20*10**-6\n",
    "t=70*10**-9\n",
    "e = 1.6*10**-19\n",
    "h= 6.62607004*10**-34\n",
    "pi= math.pi"
   ]
  },
  {
   "cell_type": "code",
   "execution_count": 536,
   "metadata": {},
   "outputs": [],
   "source": [
    "df = pd.read_csv('CoSi_%dK_MRxx.csv' %T)"
   ]
  },
  {
   "cell_type": "code",
   "execution_count": 537,
   "metadata": {},
   "outputs": [],
   "source": [
    "df=df.drop(labels =['Unnamed: 0'],axis = 1)"
   ]
  },
  {
   "cell_type": "code",
   "execution_count": 538,
   "metadata": {},
   "outputs": [
    {
     "data": {
      "text/plain": [
       "Index(['Magnetic field (Oe)', 'Rxx_B_perpendicular_to_I', 'MR_perpendicular',\n",
       "       'Magnetic field (Oe).1', 'Rxx_B//I', 'MR_parallel'],\n",
       "      dtype='object')"
      ]
     },
     "execution_count": 538,
     "metadata": {},
     "output_type": "execute_result"
    }
   ],
   "source": [
    "df.columns"
   ]
  },
  {
   "cell_type": "markdown",
   "metadata": {},
   "source": [
    "### data rearrange"
   ]
  },
  {
   "cell_type": "code",
   "execution_count": 539,
   "metadata": {},
   "outputs": [
    {
     "data": {
      "text/html": [
       "<div>\n",
       "<style scoped>\n",
       "    .dataframe tbody tr th:only-of-type {\n",
       "        vertical-align: middle;\n",
       "    }\n",
       "\n",
       "    .dataframe tbody tr th {\n",
       "        vertical-align: top;\n",
       "    }\n",
       "\n",
       "    .dataframe thead th {\n",
       "        text-align: right;\n",
       "    }\n",
       "</style>\n",
       "<table border=\"1\" class=\"dataframe\">\n",
       "  <thead>\n",
       "    <tr style=\"text-align: right;\">\n",
       "      <th></th>\n",
       "      <th>Magnetic field (T)</th>\n",
       "      <th>Rxx_B_perpendicular_to_I</th>\n",
       "      <th>rho_xy (uOhm-m)</th>\n",
       "      <th>conductance (1/Ohm)</th>\n",
       "    </tr>\n",
       "  </thead>\n",
       "  <tbody>\n",
       "    <tr>\n",
       "      <td>0</td>\n",
       "      <td>6.793889</td>\n",
       "      <td>16.852052</td>\n",
       "      <td>0.589822</td>\n",
       "      <td>0.059340</td>\n",
       "    </tr>\n",
       "    <tr>\n",
       "      <td>1</td>\n",
       "      <td>6.538595</td>\n",
       "      <td>16.838177</td>\n",
       "      <td>0.589336</td>\n",
       "      <td>0.059389</td>\n",
       "    </tr>\n",
       "    <tr>\n",
       "      <td>2</td>\n",
       "      <td>6.209574</td>\n",
       "      <td>16.820191</td>\n",
       "      <td>0.588707</td>\n",
       "      <td>0.059452</td>\n",
       "    </tr>\n",
       "    <tr>\n",
       "      <td>3</td>\n",
       "      <td>5.912191</td>\n",
       "      <td>16.803953</td>\n",
       "      <td>0.588138</td>\n",
       "      <td>0.059510</td>\n",
       "    </tr>\n",
       "    <tr>\n",
       "      <td>4</td>\n",
       "      <td>5.603393</td>\n",
       "      <td>16.786985</td>\n",
       "      <td>0.587544</td>\n",
       "      <td>0.059570</td>\n",
       "    </tr>\n",
       "    <tr>\n",
       "      <td>...</td>\n",
       "      <td>...</td>\n",
       "      <td>...</td>\n",
       "      <td>...</td>\n",
       "      <td>...</td>\n",
       "    </tr>\n",
       "    <tr>\n",
       "      <td>91</td>\n",
       "      <td>6.096319</td>\n",
       "      <td>16.813288</td>\n",
       "      <td>0.588465</td>\n",
       "      <td>0.059477</td>\n",
       "    </tr>\n",
       "    <tr>\n",
       "      <td>92</td>\n",
       "      <td>6.391350</td>\n",
       "      <td>16.829442</td>\n",
       "      <td>0.589030</td>\n",
       "      <td>0.059420</td>\n",
       "    </tr>\n",
       "    <tr>\n",
       "      <td>93</td>\n",
       "      <td>6.690131</td>\n",
       "      <td>16.845611</td>\n",
       "      <td>0.589596</td>\n",
       "      <td>0.059363</td>\n",
       "    </tr>\n",
       "    <tr>\n",
       "      <td>94</td>\n",
       "      <td>6.983186</td>\n",
       "      <td>16.861570</td>\n",
       "      <td>0.590155</td>\n",
       "      <td>0.059306</td>\n",
       "    </tr>\n",
       "    <tr>\n",
       "      <td>95</td>\n",
       "      <td>6.999903</td>\n",
       "      <td>16.863044</td>\n",
       "      <td>0.590207</td>\n",
       "      <td>0.059301</td>\n",
       "    </tr>\n",
       "  </tbody>\n",
       "</table>\n",
       "<p>96 rows × 4 columns</p>\n",
       "</div>"
      ],
      "text/plain": [
       "    Magnetic field (T)  Rxx_B_perpendicular_to_I  rho_xy (uOhm-m)  \\\n",
       "0             6.793889                 16.852052         0.589822   \n",
       "1             6.538595                 16.838177         0.589336   \n",
       "2             6.209574                 16.820191         0.588707   \n",
       "3             5.912191                 16.803953         0.588138   \n",
       "4             5.603393                 16.786985         0.587544   \n",
       "..                 ...                       ...              ...   \n",
       "91            6.096319                 16.813288         0.588465   \n",
       "92            6.391350                 16.829442         0.589030   \n",
       "93            6.690131                 16.845611         0.589596   \n",
       "94            6.983186                 16.861570         0.590155   \n",
       "95            6.999903                 16.863044         0.590207   \n",
       "\n",
       "    conductance (1/Ohm)  \n",
       "0              0.059340  \n",
       "1              0.059389  \n",
       "2              0.059452  \n",
       "3              0.059510  \n",
       "4              0.059570  \n",
       "..                  ...  \n",
       "91             0.059477  \n",
       "92             0.059420  \n",
       "93             0.059363  \n",
       "94             0.059306  \n",
       "95             0.059301  \n",
       "\n",
       "[96 rows x 4 columns]"
      ]
     },
     "execution_count": 539,
     "metadata": {},
     "output_type": "execute_result"
    }
   ],
   "source": [
    "df['Magnetic field (T)']=df['Magnetic field (Oe)']/10000\n",
    "df['rho_xy (uOhm-m)']=df['Rxx_B_perpendicular_to_I']*(w/L)*t*10**6\n",
    "\n",
    "df['conductance (1/Ohm)']=np.reciprocal(df['Rxx_B_perpendicular_to_I'])\n",
    "df_xx = df[['Magnetic field (T)','Rxx_B_perpendicular_to_I','rho_xy (uOhm-m)','conductance (1/Ohm)']]\n",
    "df_xx = df_xx.dropna(axis=0, how='any', inplace=False) \n",
    "df_xx"
   ]
  },
  {
   "cell_type": "code",
   "execution_count": 540,
   "metadata": {},
   "outputs": [
    {
     "data": {
      "text/plain": [
       "[-0.10996660000000004, 0.09559355]"
      ]
     },
     "execution_count": 540,
     "metadata": {},
     "output_type": "execute_result"
    }
   ],
   "source": [
    "#shift data to make it cross (0,0)\n",
    "l=[]\n",
    "l2=[]\n",
    "a=1\n",
    "thr=0.15\n",
    "while a<len(df_xx):\n",
    "    if abs(df_xx.iloc[a]['Magnetic field (T)']-0)<thr:\n",
    "        l.append(df_xx.iloc[a]['conductance (1/Ohm)']) \n",
    "        l2.append(df_xx.iloc[a]['Magnetic field (T)'])\n",
    "    a+=1\n",
    "global mean\n",
    "mean=sum(l)/len(l)\n",
    "df_xx['delta conductace (1/Ohm)']=(df_xx['conductance (1/Ohm)']-mean)\n",
    "l2"
   ]
  },
  {
   "cell_type": "code",
   "execution_count": 541,
   "metadata": {},
   "outputs": [
    {
     "data": {
      "text/plain": [
       "Index(['Magnetic field (T)', 'Rxx_B_perpendicular_to_I', 'rho_xy (uOhm-m)',\n",
       "       'conductance (1/Ohm)', 'delta conductace (1/Ohm)'],\n",
       "      dtype='object')"
      ]
     },
     "execution_count": 541,
     "metadata": {},
     "output_type": "execute_result"
    }
   ],
   "source": [
    "df_xx.columns"
   ]
  },
  {
   "cell_type": "code",
   "execution_count": 542,
   "metadata": {},
   "outputs": [
    {
     "data": {
      "text/plain": [
       "[-0.10996660000000004, 0.09559355]"
      ]
     },
     "execution_count": 542,
     "metadata": {},
     "output_type": "execute_result"
    }
   ],
   "source": [
    "#shift data to make it cross (0,0)\n",
    "l=[]\n",
    "l2=[]\n",
    "a=1\n",
    "thr=0.15\n",
    "while a<len(df_xx):\n",
    "    if abs(df_xx.iloc[a]['Magnetic field (T)']-0)<thr:\n",
    "        l.append(df_xx.iloc[a]['rho_xy (uOhm-m)']) \n",
    "        l2.append(df_xx.iloc[a]['Magnetic field (T)'])\n",
    "    a+=1\n",
    "global mean\n",
    "mean=sum(l)/len(l)\n",
    "df_xx['delta rho_xy (uOhm-m)']=(df_xx['rho_xy (uOhm-m)']-mean)\n",
    "l2"
   ]
  },
  {
   "cell_type": "code",
   "execution_count": 543,
   "metadata": {},
   "outputs": [
    {
     "data": {
      "text/html": [
       "<div>\n",
       "<style scoped>\n",
       "    .dataframe tbody tr th:only-of-type {\n",
       "        vertical-align: middle;\n",
       "    }\n",
       "\n",
       "    .dataframe tbody tr th {\n",
       "        vertical-align: top;\n",
       "    }\n",
       "\n",
       "    .dataframe thead th {\n",
       "        text-align: right;\n",
       "    }\n",
       "</style>\n",
       "<table border=\"1\" class=\"dataframe\">\n",
       "  <thead>\n",
       "    <tr style=\"text-align: right;\">\n",
       "      <th></th>\n",
       "      <th>Magnetic field (T)</th>\n",
       "      <th>Rxx_B_perpendicular_to_I</th>\n",
       "      <th>rho_xy (uOhm-m)</th>\n",
       "      <th>conductance (1/Ohm)</th>\n",
       "      <th>delta conductace (1/Ohm)</th>\n",
       "      <th>delta rho_xy (uOhm-m)</th>\n",
       "      <th>delta conductance (e^2/pi-h)</th>\n",
       "    </tr>\n",
       "  </thead>\n",
       "  <tbody>\n",
       "    <tr>\n",
       "      <td>0</td>\n",
       "      <td>6.793889</td>\n",
       "      <td>16.852052</td>\n",
       "      <td>0.589822</td>\n",
       "      <td>0.059340</td>\n",
       "      <td>-0.001214</td>\n",
       "      <td>0.011823</td>\n",
       "      <td>-98.702798</td>\n",
       "    </tr>\n",
       "    <tr>\n",
       "      <td>1</td>\n",
       "      <td>6.538595</td>\n",
       "      <td>16.838177</td>\n",
       "      <td>0.589336</td>\n",
       "      <td>0.059389</td>\n",
       "      <td>-0.001165</td>\n",
       "      <td>0.011338</td>\n",
       "      <td>-94.726734</td>\n",
       "    </tr>\n",
       "    <tr>\n",
       "      <td>2</td>\n",
       "      <td>6.209574</td>\n",
       "      <td>16.820191</td>\n",
       "      <td>0.588707</td>\n",
       "      <td>0.059452</td>\n",
       "      <td>-0.001101</td>\n",
       "      <td>0.010708</td>\n",
       "      <td>-89.562778</td>\n",
       "    </tr>\n",
       "    <tr>\n",
       "      <td>3</td>\n",
       "      <td>5.912191</td>\n",
       "      <td>16.803953</td>\n",
       "      <td>0.588138</td>\n",
       "      <td>0.059510</td>\n",
       "      <td>-0.001044</td>\n",
       "      <td>0.010140</td>\n",
       "      <td>-84.891284</td>\n",
       "    </tr>\n",
       "    <tr>\n",
       "      <td>4</td>\n",
       "      <td>5.603393</td>\n",
       "      <td>16.786985</td>\n",
       "      <td>0.587544</td>\n",
       "      <td>0.059570</td>\n",
       "      <td>-0.000984</td>\n",
       "      <td>0.009546</td>\n",
       "      <td>-80.000270</td>\n",
       "    </tr>\n",
       "    <tr>\n",
       "      <td>...</td>\n",
       "      <td>...</td>\n",
       "      <td>...</td>\n",
       "      <td>...</td>\n",
       "      <td>...</td>\n",
       "      <td>...</td>\n",
       "      <td>...</td>\n",
       "      <td>...</td>\n",
       "    </tr>\n",
       "    <tr>\n",
       "      <td>91</td>\n",
       "      <td>6.096319</td>\n",
       "      <td>16.813288</td>\n",
       "      <td>0.588465</td>\n",
       "      <td>0.059477</td>\n",
       "      <td>-0.001077</td>\n",
       "      <td>0.010467</td>\n",
       "      <td>-87.578140</td>\n",
       "    </tr>\n",
       "    <tr>\n",
       "      <td>92</td>\n",
       "      <td>6.391350</td>\n",
       "      <td>16.829442</td>\n",
       "      <td>0.589030</td>\n",
       "      <td>0.059420</td>\n",
       "      <td>-0.001134</td>\n",
       "      <td>0.011032</td>\n",
       "      <td>-92.220162</td>\n",
       "    </tr>\n",
       "    <tr>\n",
       "      <td>93</td>\n",
       "      <td>6.690131</td>\n",
       "      <td>16.845611</td>\n",
       "      <td>0.589596</td>\n",
       "      <td>0.059363</td>\n",
       "      <td>-0.001191</td>\n",
       "      <td>0.011598</td>\n",
       "      <td>-96.857867</td>\n",
       "    </tr>\n",
       "    <tr>\n",
       "      <td>94</td>\n",
       "      <td>6.983186</td>\n",
       "      <td>16.861570</td>\n",
       "      <td>0.590155</td>\n",
       "      <td>0.059306</td>\n",
       "      <td>-0.001247</td>\n",
       "      <td>0.012157</td>\n",
       "      <td>-101.426477</td>\n",
       "    </tr>\n",
       "    <tr>\n",
       "      <td>95</td>\n",
       "      <td>6.999903</td>\n",
       "      <td>16.863044</td>\n",
       "      <td>0.590207</td>\n",
       "      <td>0.059301</td>\n",
       "      <td>-0.001253</td>\n",
       "      <td>0.012208</td>\n",
       "      <td>-101.847960</td>\n",
       "    </tr>\n",
       "  </tbody>\n",
       "</table>\n",
       "<p>96 rows × 7 columns</p>\n",
       "</div>"
      ],
      "text/plain": [
       "    Magnetic field (T)  Rxx_B_perpendicular_to_I  rho_xy (uOhm-m)  \\\n",
       "0             6.793889                 16.852052         0.589822   \n",
       "1             6.538595                 16.838177         0.589336   \n",
       "2             6.209574                 16.820191         0.588707   \n",
       "3             5.912191                 16.803953         0.588138   \n",
       "4             5.603393                 16.786985         0.587544   \n",
       "..                 ...                       ...              ...   \n",
       "91            6.096319                 16.813288         0.588465   \n",
       "92            6.391350                 16.829442         0.589030   \n",
       "93            6.690131                 16.845611         0.589596   \n",
       "94            6.983186                 16.861570         0.590155   \n",
       "95            6.999903                 16.863044         0.590207   \n",
       "\n",
       "    conductance (1/Ohm)  delta conductace (1/Ohm)  delta rho_xy (uOhm-m)  \\\n",
       "0              0.059340                 -0.001214               0.011823   \n",
       "1              0.059389                 -0.001165               0.011338   \n",
       "2              0.059452                 -0.001101               0.010708   \n",
       "3              0.059510                 -0.001044               0.010140   \n",
       "4              0.059570                 -0.000984               0.009546   \n",
       "..                  ...                       ...                    ...   \n",
       "91             0.059477                 -0.001077               0.010467   \n",
       "92             0.059420                 -0.001134               0.011032   \n",
       "93             0.059363                 -0.001191               0.011598   \n",
       "94             0.059306                 -0.001247               0.012157   \n",
       "95             0.059301                 -0.001253               0.012208   \n",
       "\n",
       "    delta conductance (e^2/pi-h)  \n",
       "0                     -98.702798  \n",
       "1                     -94.726734  \n",
       "2                     -89.562778  \n",
       "3                     -84.891284  \n",
       "4                     -80.000270  \n",
       "..                           ...  \n",
       "91                    -87.578140  \n",
       "92                    -92.220162  \n",
       "93                    -96.857867  \n",
       "94                   -101.426477  \n",
       "95                   -101.847960  \n",
       "\n",
       "[96 rows x 7 columns]"
      ]
     },
     "execution_count": 543,
     "metadata": {},
     "output_type": "execute_result"
    }
   ],
   "source": [
    "df_xx['delta conductance (e^2/pi-h)']=df_xx['delta conductace (1/Ohm)']/(e**2/(pi*h))\n",
    "df_xx"
   ]
  },
  {
   "cell_type": "code",
   "execution_count": 544,
   "metadata": {},
   "outputs": [
    {
     "data": {
      "text/plain": [
       "<matplotlib.collections.PathCollection at 0x1e7d0183240>"
      ]
     },
     "execution_count": 544,
     "metadata": {},
     "output_type": "execute_result"
    },
    {
     "data": {
      "image/png": "[encoded data removed]",
      "text/plain": [
       "<Figure size 432x288 with 1 Axes>"
      ]
     },
     "metadata": {
      "needs_background": "light"
     },
     "output_type": "display_data"
    }
   ],
   "source": [
    "x=np.array(df_xx['Magnetic field (T)'])\n",
    "y=np.array(df_xx['delta rho_xy (uOhm-m)'])\n",
    "z=np.array(df_xx['delta conductance (e^2/pi-h)'])\n",
    "plt.scatter(x,y,s=10)\n",
    "#plt.scatter(x,z)\n",
    "#plt.ylim(0.0592,0.0606)\n",
    "#plt.ylim(-0.00135,0.00001)"
   ]
  },
  {
   "cell_type": "code",
   "execution_count": 545,
   "metadata": {},
   "outputs": [
    {
     "data": {
      "image/png": "[encoded data removed]",
      "text/plain": [
       "<Figure size 432x288 with 1 Axes>"
      ]
     },
     "metadata": {
      "needs_background": "light"
     },
     "output_type": "display_data"
    }
   ],
   "source": [
    "x=np.array(df_xx['Magnetic field (T)'])\n",
    "y=np.array(df_xx['delta conductace (1/Ohm)'])\n",
    "plt.figure(figsize=(6, 4))\n",
    "plt.scatter(x, y, label='%dK' %T,color='coral',s=20)\n",
    "plt.legend(loc='best',fontsize=20)\n",
    "#plt.ticklabel_format(style='sci', axis='x', scilimits=(0,0), useMathText=True)\n",
    "#plt.ticklabel_format(style='sci', axis='y', scilimits=(0,0), useMathText=True)\n",
    "plt.autoscale(enable=True, axis='y') \n",
    "plt.ylim(-0.00135,0.0001)\n",
    "#plt.xlim(-1, 1)\n",
    "plt.xticks(fontsize=18)\n",
    "plt.yticks(fontsize=18)\n",
    "plt.xlabel('Magnetic field (T)',fontsize=20)\n",
    "plt.ylabel('$\\u0394$$\\sigma$_xx (1/$\\Omega$)',fontsize=20)\n",
    "plt.show()"
   ]
  },
  {
   "cell_type": "code",
   "execution_count": 546,
   "metadata": {},
   "outputs": [
    {
     "data": {
      "image/png": "[encoded data removed]",
      "text/plain": [
       "<Figure size 432x288 with 1 Axes>"
      ]
     },
     "metadata": {
      "needs_background": "light"
     },
     "output_type": "display_data"
    }
   ],
   "source": [
    "x=np.array(df_xx['Magnetic field (T)'])\n",
    "y=np.array(df_xx['delta conductance (e^2/pi-h)'])\n",
    "plt.figure(figsize=(6, 4))\n",
    "plt.scatter(x, y, label='%dK' %T,color='coral',s=20)\n",
    "plt.legend(loc='best',fontsize=20)\n",
    "#plt.ticklabel_format(style='sci', axis='x', scilimits=(0,0), useMathText=True)\n",
    "#plt.ticklabel_format(style='sci', axis='y', scilimits=(0,0), useMathText=True)\n",
    "plt.autoscale(enable=True, axis='y') \n",
    "#plt.ylim(-0.00135,0.0001)\n",
    "plt.xlim(-1, 1)\n",
    "plt.ylim(-10, 1)\n",
    "plt.grid(axis='both')\n",
    "plt.xticks(fontsize=18)\n",
    "plt.yticks(fontsize=18)\n",
    "plt.xlabel('Magnetic field (T)',fontsize=20)\n",
    "plt.ylabel('$\\u0394$$\\sigma$$_{xx}$ (e$^{2}$/$\\pi$h)',fontsize=20)\n",
    "plt.show()"
   ]
  },
  {
   "cell_type": "markdown",
   "metadata": {},
   "source": [
    "### WAL fitting"
   ]
  },
  {
   "cell_type": "code",
   "execution_count": 547,
   "metadata": {},
   "outputs": [
    {
     "name": "stdout",
     "output_type": "stream",
     "text": [
      "[1.         0.06656938]\n",
      "0.9915676998814649\n"
     ]
    }
   ],
   "source": [
    "#One channel fitting\n",
    "x=np.array(df_xx['Magnetic field (T)'])\n",
    "y=np.array(df_xx['delta conductance (e^2/pi-h)'])\n",
    "h_bar=h/(2*pi)\n",
    "def WAL(x,a,Bphi):\n",
    "    return a*((special.polygamma(0, Bphi/abs(x)))-np.log(Bphi/abs(x)))\n",
    "#-16*H*(ne*ue**2/(1+(ue*H)**2)-nh*uh**2/(1+(uh*H)**2))\n",
    "    #(-1.6*10**-19*x*(ne*ue**2/(1+(ue*x)**2))*10**-6)\n",
    "#popt, pcov = optimize.curve_fit(WAL, x, y,p0=[1,0],bounds=((1,0),(10,1000)),maxfev=50000000000)\n",
    "popt, pcov = optimize.curve_fit(WAL, x, y,bounds=((0),(1)),maxfev=10000000)\n",
    "#calculate r_square\n",
    "residuals = y- WAL(x, *popt)\n",
    "ss_res = np.sum(residuals**2)\n",
    "ss_tot = np.sum((y-np.mean(y))**2)\n",
    "r_squared = 1 - (ss_res / ss_tot)\n",
    "print(popt)\n",
    "print(r_squared)"
   ]
  },
  {
   "cell_type": "code",
   "execution_count": 554,
   "metadata": {},
   "outputs": [
    {
     "name": "stdout",
     "output_type": "stream",
     "text": [
      "[15.15450122  0.81037324]\n",
      "0.9972268694862938\n"
     ]
    },
    {
     "name": "stderr",
     "output_type": "stream",
     "text": [
      "C:\\Users\\alial\\Anaconda3\\lib\\site-packages\\ipykernel_launcher.py:5: RuntimeWarning: invalid value encountered in log\n",
      "  \"\"\"\n"
     ]
    }
   ],
   "source": [
    "x=np.array(df_xx['Magnetic field (T)'])\n",
    "y=np.array(df_xx['delta conductance (e^2/pi-h)'])\n",
    "h_bar=h/(2*pi)\n",
    "def WAL(x,a,Bphi):\n",
    "    return a*((special.polygamma(0, Bphi/abs(x)))-np.log(Bphi/abs(x)))\n",
    "#popt, pcov = optimize.curve_fit(WAL, x, y,p0=[1,0],bounds=((1,0),(10,1000)),maxfev=50000000000)\n",
    "popt, pcov = optimize.curve_fit(WAL, x, y,maxfev=10000000)\n",
    "#calculate r_square\n",
    "residuals = y- WAL(x, *popt)\n",
    "ss_res = np.sum(residuals**2)\n",
    "ss_tot = np.sum((y-np.mean(y))**2)\n",
    "r_squared = 1 - (ss_res / ss_tot)\n",
    "print(popt)\n",
    "print(r_squared)"
   ]
  },
  {
   "cell_type": "code",
   "execution_count": 555,
   "metadata": {},
   "outputs": [
    {
     "data": {
      "image/png": "[encoded data removed]",
      "text/plain": [
       "<Figure size 432x288 with 1 Axes>"
      ]
     },
     "metadata": {
      "needs_background": "light"
     },
     "output_type": "display_data"
    }
   ],
   "source": [
    "plt.figure(figsize=(6, 4))\n",
    "plt.scatter(x, y, label='%dK' %T,color='cadetblue',s=15)\n",
    "plt.plot(x, WAL(x, *popt), 'r', label='WAL fit:\\na=%f,\\nB$_{\\phi}$=%f' % tuple(popt), )\n",
    "#plt.plot(x, test_func(x, *popt), 'r-', label='fit:\\nn=%f,\\nu=%f' % tuple(popt))\n",
    "plt.legend(loc='best',fontsize=15)\n",
    "#plt.ticklabel_format(style='sci', axis='x', scilimits=(0,0), useMathText=True)\n",
    "#plt.ticklabel_format(style='sci', axis='y', scilimits=(0,0), useMathText=True)\n",
    "plt.autoscale(enable=True, axis='y') \n",
    "#plt.ylim(-0.00075, 0.00075)\n",
    "#plt.xlim(-1, 1)\n",
    "plt.xticks(fontsize=18)\n",
    "plt.yticks(fontsize=18)\n",
    "plt.xlabel('Magnetic field (T)',fontsize=20)\n",
    "plt.ylabel('$\\u0394$$\\sigma$$_{xx}$ (e$^{2}$/$\\pi$h)',fontsize=20)\n",
    "plt.show()"
   ]
  },
  {
   "cell_type": "code",
   "execution_count": 550,
   "metadata": {},
   "outputs": [
    {
     "name": "stdout",
     "output_type": "stream",
     "text": [
      "[ 7.07274359  1.92997265 18.74009781  0.22503533]\n",
      "0.9962642557081329\n"
     ]
    }
   ],
   "source": [
    "#2 carrier fitting\n",
    "x=np.array(df_xx['Magnetic field (T)'])\n",
    "y=np.array(df_xx['delta rho_xy (uOhm-m)'])\n",
    "h_bar=h/(2*pi)\n",
    "def rhoxy(x,nh,ne,uh,ue):\n",
    "    return((ne*ue+nh*uh)+(ne*ue*uh**2+nh*ue**2*uh)*x**2)/(16*((ne*ue+nh*uh)**2+(nh-ne)**2*ue**2*uh**2*x**2))\n",
    "#def WAL(x,a,Bphi):\n",
    "    #return a*((special.polygamma(0, Bphi/abs(x)))-np.log(Bphi/abs(x)))\n",
    "#-16*H*(ne*ue**2/(1+(ue*H)**2)-nh*uh**2/(1+(uh*H)**2))\n",
    "    #(-1.6*10**-19*x*(ne*ue**2/(1+(ue*x)**2))*10**-6)\n",
    "popt_rhoxy, pcov_rhoxy = optimize.curve_fit(rhoxy, x, y,maxfev=10000000,p0=[1,0,1,0],bounds=[(1,0,1,0),(100,100,100,100)])\n",
    "#popt_rhoxy, pcov_rhoxy = optimize.curve_fit(rhoxy, x, y,maxfev=10000000)\n",
    "#calculate r_square\n",
    "residuals = y- rhoxy(x, *popt_rhoxy)\n",
    "ss_res = np.sum(residuals**2)\n",
    "ss_tot = np.sum((y-np.mean(y))**2)\n",
    "r_squared = 1 - (ss_res / ss_tot)\n",
    "print(popt_rhoxy)\n",
    "print(r_squared)"
   ]
  },
  {
   "cell_type": "code",
   "execution_count": 551,
   "metadata": {},
   "outputs": [
    {
     "data": {
      "image/png": "[encoded data removed]",
      "text/plain": [
       "<Figure size 432x288 with 1 Axes>"
      ]
     },
     "metadata": {
      "needs_background": "light"
     },
     "output_type": "display_data"
    }
   ],
   "source": [
    "plt.figure(figsize=(6, 4))\n",
    "plt.scatter(x, y, label='%dK' %T,color='cadetblue',s=15)\n",
    "plt.plot(x, rhoxy(x, *popt_rhoxy), 'r', label='2 carrier fit:\\nne=%f,\\nue=%f,\\nnh=%f,\\nuh=%f' % tuple(popt_rhoxy), )\n",
    "#plt.plot(x, test_func(x, *popt), 'r-', label='fit:\\nn=%f,\\nu=%f' % tuple(popt))\n",
    "plt.legend(loc='best',fontsize=10)\n",
    "#plt.ticklabel_format(style='sci', axis='x', scilimits=(0,0), useMathText=True)\n",
    "#plt.ticklabel_format(style='sci', axis='y', scilimits=(0,0), useMathText=True)\n",
    "plt.autoscale(enable=True, axis='y') \n",
    "#plt.ylim(-0.00075, 0.00075)\n",
    "#plt.xlim(-1, 1)\n",
    "plt.xticks(fontsize=18)\n",
    "plt.yticks(fontsize=18)\n",
    "plt.xlabel('Magnetic field (T)',fontsize=20)\n",
    "plt.ylabel('$\\u03C1$_xx (uOhm-m)',fontsize=20)\n",
    "plt.show()"
   ]
  },
  {
   "cell_type": "code",
   "execution_count": null,
   "metadata": {},
   "outputs": [],
   "source": []
  }
 ],
 "metadata": {
  "kernelspec": {
   "display_name": "Python 3",
   "language": "python",
   "name": "python3"
  }
 },
 "nbformat": 4,
 "nbformat_minor": 4
}
