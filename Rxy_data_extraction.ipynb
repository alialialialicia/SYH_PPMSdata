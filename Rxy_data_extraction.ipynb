{
 "cells": [
  {
   "cell_type": "code",
   "execution_count": 93,
   "metadata": {},
   "outputs": [],
   "source": [
    "import matplotlib.pyplot as plt\n",
    "\n",
    "import pandas as pd\n",
    "import seaborn as sns\n",
    "import numpy as np\n",
    "from scipy import optimize\n"
   ]
  },
  {
   "cell_type": "code",
   "execution_count": null,
   "metadata": {},
   "outputs": [],
   "source": []
  },
  {
   "cell_type": "code",
   "execution_count": 94,
   "metadata": {},
   "outputs": [],
   "source": [
    "T = 150"
   ]
  },
  {
   "cell_type": "code",
   "execution_count": 95,
   "metadata": {},
   "outputs": [
    {
     "data": {
      "text/html": [
       "<div>\n",
       "<style scoped>\n",
       "    .dataframe tbody tr th:only-of-type {\n",
       "        vertical-align: middle;\n",
       "    }\n",
       "\n",
       "    .dataframe tbody tr th {\n",
       "        vertical-align: top;\n",
       "    }\n",
       "\n",
       "    .dataframe thead th {\n",
       "        text-align: right;\n",
       "    }\n",
       "</style>\n",
       "<table border=\"1\" class=\"dataframe\">\n",
       "  <thead>\n",
       "    <tr style=\"text-align: right;\">\n",
       "      <th></th>\n",
       "      <th>Unnamed: 0</th>\n",
       "      <th>Temperature</th>\n",
       "      <th>Position</th>\n",
       "      <th>Magnetic field (Oe)</th>\n",
       "      <th>Rxx</th>\n",
       "      <th>Rxy</th>\n",
       "    </tr>\n",
       "  </thead>\n",
       "  <tbody>\n",
       "    <tr>\n",
       "      <td>0</td>\n",
       "      <td>0</td>\n",
       "      <td>150.00265</td>\n",
       "      <td>0.0</td>\n",
       "      <td>69289.9220</td>\n",
       "      <td>NaN</td>\n",
       "      <td>0.272681</td>\n",
       "    </tr>\n",
       "    <tr>\n",
       "      <td>1</td>\n",
       "      <td>1</td>\n",
       "      <td>150.00065</td>\n",
       "      <td>0.0</td>\n",
       "      <td>67860.2730</td>\n",
       "      <td>40.396149</td>\n",
       "      <td>NaN</td>\n",
       "    </tr>\n",
       "    <tr>\n",
       "      <td>2</td>\n",
       "      <td>2</td>\n",
       "      <td>150.00120</td>\n",
       "      <td>0.0</td>\n",
       "      <td>66351.2425</td>\n",
       "      <td>NaN</td>\n",
       "      <td>0.282697</td>\n",
       "    </tr>\n",
       "    <tr>\n",
       "      <td>3</td>\n",
       "      <td>3</td>\n",
       "      <td>150.00155</td>\n",
       "      <td>0.0</td>\n",
       "      <td>64905.4340</td>\n",
       "      <td>40.404151</td>\n",
       "      <td>NaN</td>\n",
       "    </tr>\n",
       "    <tr>\n",
       "      <td>4</td>\n",
       "      <td>4</td>\n",
       "      <td>150.00135</td>\n",
       "      <td>0.0</td>\n",
       "      <td>63281.6855</td>\n",
       "      <td>NaN</td>\n",
       "      <td>0.293246</td>\n",
       "    </tr>\n",
       "    <tr>\n",
       "      <td>...</td>\n",
       "      <td>...</td>\n",
       "      <td>...</td>\n",
       "      <td>...</td>\n",
       "      <td>...</td>\n",
       "      <td>...</td>\n",
       "      <td>...</td>\n",
       "    </tr>\n",
       "    <tr>\n",
       "      <td>185</td>\n",
       "      <td>185</td>\n",
       "      <td>149.99755</td>\n",
       "      <td>0.0</td>\n",
       "      <td>67984.9140</td>\n",
       "      <td>40.462903</td>\n",
       "      <td>NaN</td>\n",
       "    </tr>\n",
       "    <tr>\n",
       "      <td>186</td>\n",
       "      <td>186</td>\n",
       "      <td>150.00230</td>\n",
       "      <td>0.0</td>\n",
       "      <td>69570.6720</td>\n",
       "      <td>NaN</td>\n",
       "      <td>0.272739</td>\n",
       "    </tr>\n",
       "    <tr>\n",
       "      <td>187</td>\n",
       "      <td>187</td>\n",
       "      <td>150.00170</td>\n",
       "      <td>0.0</td>\n",
       "      <td>69998.5585</td>\n",
       "      <td>40.462835</td>\n",
       "      <td>NaN</td>\n",
       "    </tr>\n",
       "    <tr>\n",
       "      <td>188</td>\n",
       "      <td>188</td>\n",
       "      <td>149.99935</td>\n",
       "      <td>0.0</td>\n",
       "      <td>70000.5000</td>\n",
       "      <td>NaN</td>\n",
       "      <td>0.270830</td>\n",
       "    </tr>\n",
       "    <tr>\n",
       "      <td>189</td>\n",
       "      <td>189</td>\n",
       "      <td>149.99980</td>\n",
       "      <td>0.0</td>\n",
       "      <td>70000.5000</td>\n",
       "      <td>40.463437</td>\n",
       "      <td>NaN</td>\n",
       "    </tr>\n",
       "  </tbody>\n",
       "</table>\n",
       "<p>190 rows × 6 columns</p>\n",
       "</div>"
      ],
      "text/plain": [
       "     Unnamed: 0  Temperature  Position  Magnetic field (Oe)        Rxx  \\\n",
       "0             0    150.00265       0.0           69289.9220        NaN   \n",
       "1             1    150.00065       0.0           67860.2730  40.396149   \n",
       "2             2    150.00120       0.0           66351.2425        NaN   \n",
       "3             3    150.00155       0.0           64905.4340  40.404151   \n",
       "4             4    150.00135       0.0           63281.6855        NaN   \n",
       "..          ...          ...       ...                  ...        ...   \n",
       "185         185    149.99755       0.0           67984.9140  40.462903   \n",
       "186         186    150.00230       0.0           69570.6720        NaN   \n",
       "187         187    150.00170       0.0           69998.5585  40.462835   \n",
       "188         188    149.99935       0.0           70000.5000        NaN   \n",
       "189         189    149.99980       0.0           70000.5000  40.463437   \n",
       "\n",
       "          Rxy  \n",
       "0    0.272681  \n",
       "1         NaN  \n",
       "2    0.282697  \n",
       "3         NaN  \n",
       "4    0.293246  \n",
       "..        ...  \n",
       "185       NaN  \n",
       "186  0.272739  \n",
       "187       NaN  \n",
       "188  0.270830  \n",
       "189       NaN  \n",
       "\n",
       "[190 rows x 6 columns]"
      ]
     },
     "execution_count": 95,
     "metadata": {},
     "output_type": "execute_result"
    }
   ],
   "source": [
    "df = pd.read_csv('%dK_and_0degree.csv' %T)\n",
    "df"
   ]
  },
  {
   "cell_type": "code",
   "execution_count": 96,
   "metadata": {},
   "outputs": [],
   "source": [
    "df=df.drop(labels =['Unnamed: 0'],axis = 1)"
   ]
  },
  {
   "cell_type": "code",
   "execution_count": 97,
   "metadata": {},
   "outputs": [],
   "source": [
    "df['Magnetic field (T)']=df['Magnetic field (Oe)']/10000\n",
    "\n",
    "df_xy=df[['Magnetic field (T)','Rxy']]"
   ]
  },
  {
   "cell_type": "code",
   "execution_count": null,
   "metadata": {},
   "outputs": [],
   "source": []
  },
  {
   "cell_type": "code",
   "execution_count": 98,
   "metadata": {},
   "outputs": [],
   "source": [
    "df_xy=df_xy.dropna(axis=0,how='any',inplace = False)"
   ]
  },
  {
   "cell_type": "code",
   "execution_count": 99,
   "metadata": {},
   "outputs": [],
   "source": [
    "w=5*10**-6\n",
    "L=40*10**-6\n",
    "t=70*10**-9\n",
    "df_xy['Resistivity(uOhm-m)']=df['Rxy']*(w*t/L)*10**6\n"
   ]
  },
  {
   "cell_type": "code",
   "execution_count": 100,
   "metadata": {},
   "outputs": [
    {
     "data": {
      "text/html": [
       "<div>\n",
       "<style scoped>\n",
       "    .dataframe tbody tr th:only-of-type {\n",
       "        vertical-align: middle;\n",
       "    }\n",
       "\n",
       "    .dataframe tbody tr th {\n",
       "        vertical-align: top;\n",
       "    }\n",
       "\n",
       "    .dataframe thead th {\n",
       "        text-align: right;\n",
       "    }\n",
       "</style>\n",
       "<table border=\"1\" class=\"dataframe\">\n",
       "  <thead>\n",
       "    <tr style=\"text-align: right;\">\n",
       "      <th></th>\n",
       "      <th>Magnetic field (T)</th>\n",
       "      <th>Rxy</th>\n",
       "      <th>Resistivity(uOhm-m)</th>\n",
       "    </tr>\n",
       "  </thead>\n",
       "  <tbody>\n",
       "    <tr>\n",
       "      <td>0</td>\n",
       "      <td>6.928992</td>\n",
       "      <td>0.272681</td>\n",
       "      <td>0.002386</td>\n",
       "    </tr>\n",
       "    <tr>\n",
       "      <td>2</td>\n",
       "      <td>6.635124</td>\n",
       "      <td>0.282697</td>\n",
       "      <td>0.002474</td>\n",
       "    </tr>\n",
       "    <tr>\n",
       "      <td>4</td>\n",
       "      <td>6.328169</td>\n",
       "      <td>0.293246</td>\n",
       "      <td>0.002566</td>\n",
       "    </tr>\n",
       "    <tr>\n",
       "      <td>6</td>\n",
       "      <td>6.032968</td>\n",
       "      <td>0.303399</td>\n",
       "      <td>0.002655</td>\n",
       "    </tr>\n",
       "    <tr>\n",
       "      <td>8</td>\n",
       "      <td>5.730274</td>\n",
       "      <td>0.313868</td>\n",
       "      <td>0.002746</td>\n",
       "    </tr>\n",
       "    <tr>\n",
       "      <td>...</td>\n",
       "      <td>...</td>\n",
       "      <td>...</td>\n",
       "      <td>...</td>\n",
       "    </tr>\n",
       "    <tr>\n",
       "      <td>180</td>\n",
       "      <td>6.052709</td>\n",
       "      <td>0.303555</td>\n",
       "      <td>0.002656</td>\n",
       "    </tr>\n",
       "    <tr>\n",
       "      <td>182</td>\n",
       "      <td>6.357425</td>\n",
       "      <td>0.293072</td>\n",
       "      <td>0.002564</td>\n",
       "    </tr>\n",
       "    <tr>\n",
       "      <td>184</td>\n",
       "      <td>6.662056</td>\n",
       "      <td>0.282690</td>\n",
       "      <td>0.002474</td>\n",
       "    </tr>\n",
       "    <tr>\n",
       "      <td>186</td>\n",
       "      <td>6.957067</td>\n",
       "      <td>0.272739</td>\n",
       "      <td>0.002386</td>\n",
       "    </tr>\n",
       "    <tr>\n",
       "      <td>188</td>\n",
       "      <td>7.000050</td>\n",
       "      <td>0.270830</td>\n",
       "      <td>0.002370</td>\n",
       "    </tr>\n",
       "  </tbody>\n",
       "</table>\n",
       "<p>95 rows × 3 columns</p>\n",
       "</div>"
      ],
      "text/plain": [
       "     Magnetic field (T)       Rxy  Resistivity(uOhm-m)\n",
       "0              6.928992  0.272681             0.002386\n",
       "2              6.635124  0.282697             0.002474\n",
       "4              6.328169  0.293246             0.002566\n",
       "6              6.032968  0.303399             0.002655\n",
       "8              5.730274  0.313868             0.002746\n",
       "..                  ...       ...                  ...\n",
       "180            6.052709  0.303555             0.002656\n",
       "182            6.357425  0.293072             0.002564\n",
       "184            6.662056  0.282690             0.002474\n",
       "186            6.957067  0.272739             0.002386\n",
       "188            7.000050  0.270830             0.002370\n",
       "\n",
       "[95 rows x 3 columns]"
      ]
     },
     "execution_count": 100,
     "metadata": {},
     "output_type": "execute_result"
    }
   ],
   "source": [
    "df_xy"
   ]
  },
  {
   "cell_type": "code",
   "execution_count": 101,
   "metadata": {},
   "outputs": [
    {
     "data": {
      "text/plain": [
       "Magnetic field (T)     6.928992\n",
       "Rxy                    0.272681\n",
       "Resistivity(uOhm-m)    0.002386\n",
       "Name: 0, dtype: float64"
      ]
     },
     "execution_count": 101,
     "metadata": {},
     "output_type": "execute_result"
    }
   ],
   "source": [
    "df_xy.iloc[0]"
   ]
  },
  {
   "cell_type": "code",
   "execution_count": 102,
   "metadata": {},
   "outputs": [
    {
     "data": {
      "text/plain": [
       "[0.03520025, -0.03832815]"
      ]
     },
     "execution_count": 102,
     "metadata": {},
     "output_type": "execute_result"
    }
   ],
   "source": [
    "#shift data to make it cross (0,0)\n",
    "l=[]\n",
    "l2=[]\n",
    "a=0\n",
    "thr=0.24\n",
    "while a<len(df_xy):\n",
    "    if abs(df_xy.iloc[a]['Magnetic field (T)']-0)<thr:\n",
    "        l.append(df_xy.iloc[a]['Resistivity(uOhm-m)']) \n",
    "        l2.append(df_xy.iloc[a]['Magnetic field (T)'])\n",
    "    a+=1\n",
    "global mean\n",
    "mean=sum(l)/len(l)\n",
    "df_xy['delta Resistivity(uOhm-m)']=(df_xy['Resistivity(uOhm-m)']-mean)\n",
    "l2"
   ]
  },
  {
   "cell_type": "code",
   "execution_count": 103,
   "metadata": {},
   "outputs": [
    {
     "data": {
      "text/plain": [
       "Text(0, 0.5, 'R$_{xy}$($Ω$)')"
      ]
     },
     "execution_count": 103,
     "metadata": {},
     "output_type": "execute_result"
    },
    {
     "data": {
      "image/png": "[encoded data removed]",
      "text/plain": [
       "<Figure size 432x288 with 1 Axes>"
      ]
     },
     "metadata": {
      "needs_background": "light"
     },
     "output_type": "display_data"
    }
   ],
   "source": [
    "x=np.array(df_xy['Magnetic field (T)'])\n",
    "y=np.array(df_xy['Rxy'])\n",
    "plt.scatter(x, y, label='%dK'%T,color='red')\n",
    "plt.legend(loc='best',fontsize=20)\n",
    "#plt.ylim(0, 800)\n",
    "plt.xticks(fontsize=18)\n",
    "plt.yticks(fontsize=18)\n",
    "plt.xlabel('Magnetic field (T)',fontsize=20)\n",
    "plt.ylabel('R$_{xy}$($\\u03A9$)',fontsize=20)"
   ]
  },
  {
   "cell_type": "code",
   "execution_count": 104,
   "metadata": {},
   "outputs": [],
   "source": [
    "x150=np.array(df_xy['Magnetic field (T)'])\n",
    "y150=np.array(df_xy['delta Resistivity(uOhm-m)'])\n"
   ]
  },
  {
   "cell_type": "code",
   "execution_count": 118,
   "metadata": {},
   "outputs": [
    {
     "data": {
      "text/plain": [
       "Text(0, 0.5, '$\\\\rho$$_{xy}$ (u$Ω$-m)')"
      ]
     },
     "execution_count": 118,
     "metadata": {},
     "output_type": "execute_result"
    },
    {
     "data": {
      "image/png": "[encoded data removed]",
      "text/plain": [
       "<Figure size 432x288 with 1 Axes>"
      ]
     },
     "metadata": {
      "needs_background": "light"
     },
     "output_type": "display_data"
    }
   ],
   "source": [
    "x=np.array(df_xy['Magnetic field (T)'])\n",
    "y=np.array(df_xy['delta Resistivity(uOhm-m)'])\n",
    "#plt.scatter(x2, y2, label= '2K',color='blue',s=20)\n",
    "#plt.scatter(x4, y4, label= '4K',color='red',s=20)\n",
    "#plt.scatter(x6, y6, label= '6K',color='green',s=20)\n",
    "#plt.scatter(x8, y8, label= '8K',color='orange',s=20)\n",
    "plt.scatter(x10, y10, label= '2-10K',color='purple',s=20)\n",
    "plt.scatter(x20, y20, label= '20K',color='coral',s=20)\n",
    "plt.scatter(x40, y40, label= '40K',color='black',s=20)\n",
    "plt.scatter(x60, y60, label= '60K',color='crimson',s=20)\n",
    "plt.scatter(x80, y80, label= '80K',color='darksalmon',s=20)\n",
    "plt.scatter(x100, y100, label= '100K',color='olive',s=20)\n",
    "plt.scatter(x150, y150, label= '150-300K',color='steelblue',s=20)\n",
    "#plt.scatter(x200, y200, label= '200K',color='violet',s=20)\n",
    "#plt.scatter(x250, y250, label= '250K',color='darkgrey',s=20)\n",
    "#plt.scatter(x300, y300, label= '300K',color='sienna',s=20)\n",
    "plt.legend(loc='best',fontsize=13)\n",
    "#plt.ylim(0, 0.5*10**-8)\n",
    "plt.ylim(-0.0025, 0.0001)\n",
    "plt.xlim(0,7.2)\n",
    "#plt.ticklabel_format(style='scientific', axis='y', scilimits=(-3,-3), useMathText=True,useOffset=True)\n",
    "plt.annotate(s=\"10K\", xy=(6,-0.0007), xytext=(5,-0.0005), arrowprops=dict(arrowstyle='->', connectionstyle=\"arc3,rad=-.2\"))\n",
    "plt.annotate(s=\"150K\", xy=(6,-0.00185), xytext=(5,-0.002), arrowprops=dict(arrowstyle='->', connectionstyle=\"arc3,rad=-.2\"))\n",
    "#plt.grid(axis = 'both')\n",
    "plt.xticks(fontsize=20)\n",
    "plt.yticks(fontsize=20)\n",
    "plt.xlabel('Magnetic field (T)',fontsize=20)\n",
    "plt.ylabel('$\\\\rho$$_{xy}$ (u$\\u03A9$-m)',fontsize=20)"
   ]
  },
  {
   "cell_type": "code",
   "execution_count": 106,
   "metadata": {},
   "outputs": [
    {
     "data": {
      "text/plain": [
       "<Figure size 432x288 with 0 Axes>"
      ]
     },
     "metadata": {},
     "output_type": "display_data"
    }
   ],
   "source": [
    "plt.savefig('Customed Plot.png', dpi=800, bbox_inches='tight')"
   ]
  },
  {
   "cell_type": "code",
   "execution_count": null,
   "metadata": {},
   "outputs": [],
   "source": []
  }
 ],
 "metadata": {
  "kernelspec": {
   "display_name": "Python 3",
   "language": "python",
   "name": "python3"
  },
  "language_info": {
   "codemirror_mode": {
    "name": "ipython",
    "version": 3
   },
   "file_extension": ".py",
   "mimetype": "text/x-python",
   "name": "python",
   "nbconvert_exporter": "python",
   "pygments_lexer": "ipython3",
   "version": "3.6.9"
  }
 },
 "nbformat": 4,
 "nbformat_minor": 4
}
